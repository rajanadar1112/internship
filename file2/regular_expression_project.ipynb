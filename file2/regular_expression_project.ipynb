{
 "cells": [
  {
   "cell_type": "markdown",
   "id": "f112029c",
   "metadata": {},
   "source": [
    "# regular_expression_project"
   ]
  },
  {
   "cell_type": "code",
   "execution_count": null,
   "id": "7572b80a",
   "metadata": {},
   "outputs": [],
   "source": []
  },
  {
   "cell_type": "code",
   "execution_count": 137,
   "id": "01af34d0",
   "metadata": {},
   "outputs": [],
   "source": [
    "import re\n",
    "import matplotlib.pyplot as plt \n",
    "import seaborn as sns \n",
    "import pandas as pd  \n",
    "import numpy as np\n",
    "  "
   ]
  },
  {
   "cell_type": "markdown",
   "id": "8ce8142b",
   "metadata": {},
   "source": [
    "# question 1"
   ]
  },
  {
   "cell_type": "markdown",
   "id": "2ce8e796",
   "metadata": {},
   "source": [
    "1. Write a Python program to replace all occurrences of a space, comma, or dot with a colon.\n",
    "Sample Text- 'Python Exercises, PHP exercises.'\n",
    "Expected Output: Python:Exercises::PHP:exercises:\n"
   ]
  },
  {
   "cell_type": "code",
   "execution_count": 138,
   "id": "e88767e6",
   "metadata": {},
   "outputs": [],
   "source": [
    "def replace_characters(input_text):\n",
    "    pattern = r'[ ,.]'\n",
    "    replacement = ':'\n",
    "    \n",
    "    result = re.sub(pattern, replacement, input_text)\n",
    "    return result"
   ]
  },
  {
   "cell_type": "code",
   "execution_count": 139,
   "id": "540095dd",
   "metadata": {},
   "outputs": [
    {
     "data": {
      "text/plain": [
       "'Python:Exercises::PHP:exercises:'"
      ]
     },
     "execution_count": 139,
     "metadata": {},
     "output_type": "execute_result"
    }
   ],
   "source": [
    "replace_characters('Python Exercises, PHP exercises.')"
   ]
  },
  {
   "cell_type": "markdown",
   "id": "d520d19a",
   "metadata": {},
   "source": [
    "# question 2"
   ]
  },
  {
   "cell_type": "markdown",
   "id": "734dacf4",
   "metadata": {},
   "source": [
    "2. Create a dataframe using the dictionary below and remove everything (commas (,), !, XXXX, ;, etc.) from the columns except words.\n",
    "Dictionary- {'SUMMARY' : ['hello, world!', 'XXXXX test', '123four, five:; six...']}\n",
    "Expected output-\n",
    "0      hello world\n",
    "1             test\n",
    "2    four five six\n"
   ]
  },
  {
   "cell_type": "code",
   "execution_count": 140,
   "id": "333646ff",
   "metadata": {},
   "outputs": [],
   "source": [
    "def clean_text(text):\n",
    "    cleaned_text = re.sub(r'[^a-z ]', '', text)\n",
    "    return cleaned_text\n"
   ]
  },
  {
   "cell_type": "code",
   "execution_count": 141,
   "id": "e954f448",
   "metadata": {},
   "outputs": [
    {
     "name": "stdout",
     "output_type": "stream",
     "text": [
      "         SUMMARY\n",
      "0    hello world\n",
      "1           test\n",
      "2  four five six\n"
     ]
    }
   ],
   "source": [
    "data = {'SUMMARY': ['hello, world!', 'XXXXX test', '123four, five:; six...']}\n",
    "\n",
    "df = pd.DataFrame(data)\n",
    "\n",
    "df['SUMMARY'] = df['SUMMARY'].apply(clean_text)\n",
    "\n",
    "print(df)"
   ]
  },
  {
   "cell_type": "markdown",
   "id": "6a7108f3",
   "metadata": {},
   "source": [
    "# question 3"
   ]
  },
  {
   "cell_type": "markdown",
   "id": "e9bf1c3b",
   "metadata": {},
   "source": [
    "3. Create a function in python to find all words that are at least 4 characters long in a string. The use of the re.compile() method is mandatory."
   ]
  },
  {
   "cell_type": "code",
   "execution_count": 142,
   "id": "8d702fe5",
   "metadata": {},
   "outputs": [],
   "source": [
    "def find_long_words(input_string):\n",
    "    \n",
    "    pattern = re.compile(r'\\b\\w{4,}\\b')\n",
    "    \n",
    "    matches = pattern.findall(input_string)\n",
    "    \n",
    "    return matches\n",
    "\n",
    "\n"
   ]
  },
  {
   "cell_type": "code",
   "execution_count": 143,
   "id": "5403c450",
   "metadata": {},
   "outputs": [
    {
     "name": "stdout",
     "output_type": "stream",
     "text": [
      "Sample Text:  This is a sample string with some words of varying lengths.\n",
      "output: ['This', 'sample', 'string', 'with', 'some', 'words', 'varying', 'lengths']\n"
     ]
    }
   ],
   "source": [
    "input_text = \"This is a sample string with some words of varying lengths.\"\n",
    "result = find_long_words(input_text)\n",
    "\n",
    "print(\"Sample Text: \", input_text)\n",
    "print(\"output:\", result)"
   ]
  },
  {
   "cell_type": "markdown",
   "id": "080fc314",
   "metadata": {},
   "source": [
    "# question 4"
   ]
  },
  {
   "cell_type": "markdown",
   "id": "290c19b9",
   "metadata": {},
   "source": [
    "4. Create a function in python to find all three, four, and five character words in a string. The use of the re.compile() method is mandatory."
   ]
  },
  {
   "cell_type": "code",
   "execution_count": 144,
   "id": "5396fa93",
   "metadata": {},
   "outputs": [],
   "source": [
    "def find_3_4_5_words(input_string):\n",
    "    \n",
    "    pattern = re.compile(r'\\b\\w{3,5}\\b')\n",
    "    \n",
    "    matches = pattern.findall(input_string)\n",
    "    \n",
    "    return matches\n",
    "\n"
   ]
  },
  {
   "cell_type": "code",
   "execution_count": 145,
   "id": "b6bfe336",
   "metadata": {},
   "outputs": [
    {
     "name": "stdout",
     "output_type": "stream",
     "text": [
      "Sample Text:  This is a sample string with some words and nothing of varying lengths.\n",
      "output: ['This', 'with', 'some', 'words', 'and']\n"
     ]
    }
   ],
   "source": [
    "input_text = \"This is a sample string with some words and nothing of varying lengths.\"\n",
    "result = find_3_4_5_words(input_text)\n",
    "\n",
    "print(\"Sample Text: \", input_text)\n",
    "print(\"output:\", result)"
   ]
  },
  {
   "cell_type": "markdown",
   "id": "e8f88399",
   "metadata": {},
   "source": [
    "# question 5"
   ]
  },
  {
   "cell_type": "markdown",
   "id": "1667dc28",
   "metadata": {},
   "source": [
    "5.  Create a function in Python to remove the parenthesis in a list of strings. The use of the re.compile() method is mandatory.\n",
    "Sample Text: [\"example (.com)\", \"hr@fliprobo (.com)\", \"github (.com)\", \"Hello (Data Science World)\", \"Data (Scientist)\"]\n",
    "Expected Output:\n",
    "example.com\n",
    "hr@fliprobo.com\n",
    "github.com\n",
    "Hello Data Science World\n"
   ]
  },
  {
   "cell_type": "code",
   "execution_count": 146,
   "id": "ae68826a",
   "metadata": {},
   "outputs": [],
   "source": [
    "def remove_parentheses(strings_list):\n",
    "    pattern = re.compile(r'\\(|\\)')\n",
    "\n",
    "    result = [pattern.sub('', s) for s in strings_list]\n",
    "\n",
    "    return result"
   ]
  },
  {
   "cell_type": "code",
   "execution_count": 147,
   "id": "3a684536",
   "metadata": {},
   "outputs": [
    {
     "name": "stdout",
     "output_type": "stream",
     "text": [
      "Sample Text:  ['example (.com)', 'hr@fliprobo (.com)', 'github (.com)', 'Hello (Data Science World)', 'Data (Scientist)']\n",
      "output: ['example .com', 'hr@fliprobo .com', 'github .com', 'Hello Data Science World', 'Data Scientist']\n"
     ]
    }
   ],
   "source": [
    "input_strings = [\"example (.com)\", \"hr@fliprobo (.com)\", \"github (.com)\", \"Hello (Data Science World)\", \"Data (Scientist)\"]\n",
    "result = remove_parentheses(input_strings)\n",
    "\n",
    "print(\"Sample Text: \", input_strings)\n",
    "print(\"output:\", result)"
   ]
  },
  {
   "cell_type": "markdown",
   "id": "fcf18713",
   "metadata": {},
   "source": [
    "# question 6"
   ]
  },
  {
   "cell_type": "markdown",
   "id": "100dfa9e",
   "metadata": {},
   "source": [
    "6. Write a python program to remove the parenthesis area from the text stored in the text file using Regular Expression.\n",
    "Sample Text: [\"example (.com)\", \"hr@fliprobo (.com)\", \"github (.com)\", \"Hello (Data Science World)\", \"Data (Scientist)\"]\n",
    "Expected Output: [\"example\", \"hr@fliprobo\", \"github\", \"Hello\", \"Data\"]\n",
    "Note- Store given sample text in the text file and then to remove the parenthesis area from the text."
   ]
  },
  {
   "cell_type": "code",
   "execution_count": 148,
   "id": "ca0927cd",
   "metadata": {},
   "outputs": [],
   "source": [
    "def remove_parenthesis_area(file_path):\n",
    "    try:\n",
    "        with open(file_path, 'r') as file:\n",
    "            # Read the content of the file\n",
    "            file_content = file.read()\n",
    "\n",
    "            # Define a compiled regular expression pattern for parentheses and their contents\n",
    "            pattern = re.compile(r'\\([^)]*\\)')\n",
    "\n",
    "            # Remove parenthesis area from the text\n",
    "            cleaned_text = pattern.sub('', file_content)\n",
    "\n",
    "        # Write the cleaned text back to the file\n",
    "        with open(file_path, 'w') as file:\n",
    "            file.write(cleaned_text)\n",
    "\n",
    "        print(f\"Parenthesis area removed from {file_path}\")\n",
    "\n",
    "    except FileNotFoundError:\n",
    "        print(f\"File not found: {file_path}\")\n",
    "    except Exception as e:\n",
    "        print(f\"An error occurred: {e}\")"
   ]
  },
  {
   "cell_type": "code",
   "execution_count": 149,
   "id": "444c2b41",
   "metadata": {},
   "outputs": [
    {
     "name": "stdout",
     "output_type": "stream",
     "text": [
      "Parenthesis area removed from sample_text.txt\n"
     ]
    }
   ],
   "source": [
    "file_path = 'sample_text.txt'  # Replace with the actual path to your text file\n",
    "remove_parenthesis_area(file_path)"
   ]
  },
  {
   "cell_type": "markdown",
   "id": "44537556",
   "metadata": {},
   "source": [
    "# question 7"
   ]
  },
  {
   "cell_type": "markdown",
   "id": "c0d411f1",
   "metadata": {},
   "source": [
    "Write a regular expression in Python to split a string into uppercase letters.\n",
    "Sample text: “ImportanceOfRegularExpressionsInPython”\n",
    "Expected Output: [‘Importance’, ‘Of’, ‘Regular’, ‘Expression’, ‘In’, ‘Python’]\n"
   ]
  },
  {
   "cell_type": "code",
   "execution_count": 150,
   "id": "73e7a104",
   "metadata": {},
   "outputs": [
    {
     "name": "stdout",
     "output_type": "stream",
     "text": [
      "Sample Text: ImportanceOfRegularExpressionsInPython\n",
      "Expected Output: ['Importance', 'Of', 'Regular', 'Expressions', 'In', 'Python']\n"
     ]
    }
   ],
   "source": [
    "sample_text = \"ImportanceOfRegularExpressionsInPython\"\n",
    "\n",
    "# Define a regular expression to split the string at uppercase letters\n",
    "pattern = re.compile(r'(?=[A-Z])')\n",
    "\n",
    "# Use re.split to split the string\n",
    "result = pattern.split(sample_text)\n",
    "\n",
    "# Remove empty strings from the result\n",
    "result = [word for word in result if word]\n",
    "\n",
    "print(\"Sample Text:\", sample_text)\n",
    "print(\"Expected Output:\", result)"
   ]
  },
  {
   "cell_type": "markdown",
   "id": "3e8ca332",
   "metadata": {},
   "source": [
    "# question 8"
   ]
  },
  {
   "cell_type": "markdown",
   "id": "90447e4e",
   "metadata": {},
   "source": [
    "8. Create a function in python to insert spaces between words starting with numbers.\n",
    "Sample Text: “RegularExpression1IsAn2ImportantTopic3InPython\"\n",
    "Expected Output: RegularExpression 1IsAn 2ImportantTopic 3InPython\n"
   ]
  },
  {
   "cell_type": "code",
   "execution_count": 151,
   "id": "2b49b7a0",
   "metadata": {},
   "outputs": [],
   "source": [
    "def insert_spaces_between_numbers(text):\n",
    "    # Define a regular expression to identify words starting with numbers\n",
    "    pattern = re.compile(r'(?<=[a-zA-Z])(\\d)')\n",
    "\n",
    "    # Use re.sub to insert spaces between words starting with numbers\n",
    "    result = pattern.sub(r' \\1', text)\n",
    "\n",
    "    return result"
   ]
  },
  {
   "cell_type": "code",
   "execution_count": 152,
   "id": "b9efc340",
   "metadata": {},
   "outputs": [
    {
     "name": "stdout",
     "output_type": "stream",
     "text": [
      "Sample Text: RegularExpression1IsAn2ImportantTopic3InPython\n",
      "Expected Output: RegularExpression 1IsAn 2ImportantTopic 3InPython\n"
     ]
    }
   ],
   "source": [
    "sample_text = \"RegularExpression1IsAn2ImportantTopic3InPython\"\n",
    "result = insert_spaces_between_numbers(sample_text)\n",
    "\n",
    "print(\"Sample Text:\", sample_text)\n",
    "print(\"Expected Output:\", result)"
   ]
  },
  {
   "cell_type": "markdown",
   "id": "b77660f2",
   "metadata": {},
   "source": [
    "# question 9"
   ]
  },
  {
   "cell_type": "markdown",
   "id": "49088f5f",
   "metadata": {},
   "source": [
    "9. Create a function in python to insert spaces between words starting with capital letters or with numbers.\n",
    "Sample Text: “RegularExpression1IsAn2ImportantTopic3InPython\"\n",
    "Expected Output:  RegularExpression 1 IsAn 2 ImportantTopic 3 InPython\n"
   ]
  },
  {
   "cell_type": "code",
   "execution_count": 153,
   "id": "3d362cbc",
   "metadata": {},
   "outputs": [],
   "source": [
    "def insert_spaces_between_caps_and_numbers(text):\n",
    "    # Define a regular expression to identify words starting with capital letters or numbers\n",
    "    pattern = re.compile(r'(?<=[a-zA-Z\\d])([A-Z\\d])')\n",
    "\n",
    "    # Use re.sub to insert spaces between words starting with capital letters or numbers\n",
    "    result = pattern.sub(r' \\1', text)\n",
    "\n",
    "    return result"
   ]
  },
  {
   "cell_type": "code",
   "execution_count": 154,
   "id": "7d70d179",
   "metadata": {},
   "outputs": [
    {
     "name": "stdout",
     "output_type": "stream",
     "text": [
      "Sample Text: RegularExpression1IsAn2ImportantTopic3InPython\n",
      "Expected Output: Regular Expression 1 Is An 2 Important Topic 3 In Python\n"
     ]
    }
   ],
   "source": [
    "sample_text = \"RegularExpression1IsAn2ImportantTopic3InPython\"\n",
    "result = insert_spaces_between_caps_and_numbers(sample_text)\n",
    "\n",
    "print(\"Sample Text:\", sample_text)\n",
    "print(\"Expected Output:\", result)"
   ]
  },
  {
   "cell_type": "markdown",
   "id": "0dea9960",
   "metadata": {},
   "source": [
    "# question 10"
   ]
  },
  {
   "cell_type": "markdown",
   "id": "c370e2bb",
   "metadata": {},
   "source": [
    "10.  Use the github link below to read the data and create a dataframe. After creating the dataframe extract the first 6 letters of each country and store in the dataframe under a new column called first_five_letters.\n",
    "Github Link-  https://raw.githubusercontent.com/dsrscientist/DSData/master/happiness_score_dataset.csv\n"
   ]
  },
  {
   "cell_type": "code",
   "execution_count": 155,
   "id": "93eaf57d",
   "metadata": {},
   "outputs": [
    {
     "data": {
      "text/html": [
       "<div>\n",
       "<style scoped>\n",
       "    .dataframe tbody tr th:only-of-type {\n",
       "        vertical-align: middle;\n",
       "    }\n",
       "\n",
       "    .dataframe tbody tr th {\n",
       "        vertical-align: top;\n",
       "    }\n",
       "\n",
       "    .dataframe thead th {\n",
       "        text-align: right;\n",
       "    }\n",
       "</style>\n",
       "<table border=\"1\" class=\"dataframe\">\n",
       "  <thead>\n",
       "    <tr style=\"text-align: right;\">\n",
       "      <th></th>\n",
       "      <th>Country</th>\n",
       "      <th>Region</th>\n",
       "      <th>Happiness Rank</th>\n",
       "      <th>Happiness Score</th>\n",
       "      <th>Standard Error</th>\n",
       "      <th>Economy (GDP per Capita)</th>\n",
       "      <th>Family</th>\n",
       "      <th>Health (Life Expectancy)</th>\n",
       "      <th>Freedom</th>\n",
       "      <th>Trust (Government Corruption)</th>\n",
       "      <th>Generosity</th>\n",
       "      <th>Dystopia Residual</th>\n",
       "    </tr>\n",
       "  </thead>\n",
       "  <tbody>\n",
       "    <tr>\n",
       "      <th>0</th>\n",
       "      <td>Switzerland</td>\n",
       "      <td>Western Europe</td>\n",
       "      <td>1</td>\n",
       "      <td>7.587</td>\n",
       "      <td>0.03411</td>\n",
       "      <td>1.39651</td>\n",
       "      <td>1.34951</td>\n",
       "      <td>0.94143</td>\n",
       "      <td>0.66557</td>\n",
       "      <td>0.41978</td>\n",
       "      <td>0.29678</td>\n",
       "      <td>2.51738</td>\n",
       "    </tr>\n",
       "    <tr>\n",
       "      <th>1</th>\n",
       "      <td>Iceland</td>\n",
       "      <td>Western Europe</td>\n",
       "      <td>2</td>\n",
       "      <td>7.561</td>\n",
       "      <td>0.04884</td>\n",
       "      <td>1.30232</td>\n",
       "      <td>1.40223</td>\n",
       "      <td>0.94784</td>\n",
       "      <td>0.62877</td>\n",
       "      <td>0.14145</td>\n",
       "      <td>0.43630</td>\n",
       "      <td>2.70201</td>\n",
       "    </tr>\n",
       "    <tr>\n",
       "      <th>2</th>\n",
       "      <td>Denmark</td>\n",
       "      <td>Western Europe</td>\n",
       "      <td>3</td>\n",
       "      <td>7.527</td>\n",
       "      <td>0.03328</td>\n",
       "      <td>1.32548</td>\n",
       "      <td>1.36058</td>\n",
       "      <td>0.87464</td>\n",
       "      <td>0.64938</td>\n",
       "      <td>0.48357</td>\n",
       "      <td>0.34139</td>\n",
       "      <td>2.49204</td>\n",
       "    </tr>\n",
       "    <tr>\n",
       "      <th>3</th>\n",
       "      <td>Norway</td>\n",
       "      <td>Western Europe</td>\n",
       "      <td>4</td>\n",
       "      <td>7.522</td>\n",
       "      <td>0.03880</td>\n",
       "      <td>1.45900</td>\n",
       "      <td>1.33095</td>\n",
       "      <td>0.88521</td>\n",
       "      <td>0.66973</td>\n",
       "      <td>0.36503</td>\n",
       "      <td>0.34699</td>\n",
       "      <td>2.46531</td>\n",
       "    </tr>\n",
       "    <tr>\n",
       "      <th>4</th>\n",
       "      <td>Canada</td>\n",
       "      <td>North America</td>\n",
       "      <td>5</td>\n",
       "      <td>7.427</td>\n",
       "      <td>0.03553</td>\n",
       "      <td>1.32629</td>\n",
       "      <td>1.32261</td>\n",
       "      <td>0.90563</td>\n",
       "      <td>0.63297</td>\n",
       "      <td>0.32957</td>\n",
       "      <td>0.45811</td>\n",
       "      <td>2.45176</td>\n",
       "    </tr>\n",
       "  </tbody>\n",
       "</table>\n",
       "</div>"
      ],
      "text/plain": [
       "       Country          Region  Happiness Rank  Happiness Score  \\\n",
       "0  Switzerland  Western Europe               1            7.587   \n",
       "1      Iceland  Western Europe               2            7.561   \n",
       "2      Denmark  Western Europe               3            7.527   \n",
       "3       Norway  Western Europe               4            7.522   \n",
       "4       Canada   North America               5            7.427   \n",
       "\n",
       "   Standard Error  Economy (GDP per Capita)   Family  \\\n",
       "0         0.03411                   1.39651  1.34951   \n",
       "1         0.04884                   1.30232  1.40223   \n",
       "2         0.03328                   1.32548  1.36058   \n",
       "3         0.03880                   1.45900  1.33095   \n",
       "4         0.03553                   1.32629  1.32261   \n",
       "\n",
       "   Health (Life Expectancy)  Freedom  Trust (Government Corruption)  \\\n",
       "0                   0.94143  0.66557                        0.41978   \n",
       "1                   0.94784  0.62877                        0.14145   \n",
       "2                   0.87464  0.64938                        0.48357   \n",
       "3                   0.88521  0.66973                        0.36503   \n",
       "4                   0.90563  0.63297                        0.32957   \n",
       "\n",
       "   Generosity  Dystopia Residual  \n",
       "0     0.29678            2.51738  \n",
       "1     0.43630            2.70201  \n",
       "2     0.34139            2.49204  \n",
       "3     0.34699            2.46531  \n",
       "4     0.45811            2.45176  "
      ]
     },
     "execution_count": 155,
     "metadata": {},
     "output_type": "execute_result"
    }
   ],
   "source": [
    "github_link = \"https://raw.githubusercontent.com/dsrscientist/DSData/master/happiness_score_dataset.csv\"\n",
    "\n",
    "# Read the data into a DataFrame\n",
    "df = pd.read_csv(github_link)\n",
    "\n",
    "# Display the DataFrame \n",
    "df.head()"
   ]
  },
  {
   "cell_type": "code",
   "execution_count": 156,
   "id": "d384c0c1",
   "metadata": {},
   "outputs": [
    {
     "data": {
      "text/html": [
       "<div>\n",
       "<style scoped>\n",
       "    .dataframe tbody tr th:only-of-type {\n",
       "        vertical-align: middle;\n",
       "    }\n",
       "\n",
       "    .dataframe tbody tr th {\n",
       "        vertical-align: top;\n",
       "    }\n",
       "\n",
       "    .dataframe thead th {\n",
       "        text-align: right;\n",
       "    }\n",
       "</style>\n",
       "<table border=\"1\" class=\"dataframe\">\n",
       "  <thead>\n",
       "    <tr style=\"text-align: right;\">\n",
       "      <th></th>\n",
       "      <th>Country</th>\n",
       "      <th>Region</th>\n",
       "      <th>Happiness Rank</th>\n",
       "      <th>Happiness Score</th>\n",
       "      <th>Standard Error</th>\n",
       "      <th>Economy (GDP per Capita)</th>\n",
       "      <th>Family</th>\n",
       "      <th>Health (Life Expectancy)</th>\n",
       "      <th>Freedom</th>\n",
       "      <th>Trust (Government Corruption)</th>\n",
       "      <th>Generosity</th>\n",
       "      <th>Dystopia Residual</th>\n",
       "      <th>first_five_letters</th>\n",
       "    </tr>\n",
       "  </thead>\n",
       "  <tbody>\n",
       "    <tr>\n",
       "      <th>0</th>\n",
       "      <td>Switzerland</td>\n",
       "      <td>Western Europe</td>\n",
       "      <td>1</td>\n",
       "      <td>7.587</td>\n",
       "      <td>0.03411</td>\n",
       "      <td>1.39651</td>\n",
       "      <td>1.34951</td>\n",
       "      <td>0.94143</td>\n",
       "      <td>0.66557</td>\n",
       "      <td>0.41978</td>\n",
       "      <td>0.29678</td>\n",
       "      <td>2.51738</td>\n",
       "      <td>Switze</td>\n",
       "    </tr>\n",
       "    <tr>\n",
       "      <th>1</th>\n",
       "      <td>Iceland</td>\n",
       "      <td>Western Europe</td>\n",
       "      <td>2</td>\n",
       "      <td>7.561</td>\n",
       "      <td>0.04884</td>\n",
       "      <td>1.30232</td>\n",
       "      <td>1.40223</td>\n",
       "      <td>0.94784</td>\n",
       "      <td>0.62877</td>\n",
       "      <td>0.14145</td>\n",
       "      <td>0.43630</td>\n",
       "      <td>2.70201</td>\n",
       "      <td>Icelan</td>\n",
       "    </tr>\n",
       "    <tr>\n",
       "      <th>2</th>\n",
       "      <td>Denmark</td>\n",
       "      <td>Western Europe</td>\n",
       "      <td>3</td>\n",
       "      <td>7.527</td>\n",
       "      <td>0.03328</td>\n",
       "      <td>1.32548</td>\n",
       "      <td>1.36058</td>\n",
       "      <td>0.87464</td>\n",
       "      <td>0.64938</td>\n",
       "      <td>0.48357</td>\n",
       "      <td>0.34139</td>\n",
       "      <td>2.49204</td>\n",
       "      <td>Denmar</td>\n",
       "    </tr>\n",
       "    <tr>\n",
       "      <th>3</th>\n",
       "      <td>Norway</td>\n",
       "      <td>Western Europe</td>\n",
       "      <td>4</td>\n",
       "      <td>7.522</td>\n",
       "      <td>0.03880</td>\n",
       "      <td>1.45900</td>\n",
       "      <td>1.33095</td>\n",
       "      <td>0.88521</td>\n",
       "      <td>0.66973</td>\n",
       "      <td>0.36503</td>\n",
       "      <td>0.34699</td>\n",
       "      <td>2.46531</td>\n",
       "      <td>Norway</td>\n",
       "    </tr>\n",
       "    <tr>\n",
       "      <th>4</th>\n",
       "      <td>Canada</td>\n",
       "      <td>North America</td>\n",
       "      <td>5</td>\n",
       "      <td>7.427</td>\n",
       "      <td>0.03553</td>\n",
       "      <td>1.32629</td>\n",
       "      <td>1.32261</td>\n",
       "      <td>0.90563</td>\n",
       "      <td>0.63297</td>\n",
       "      <td>0.32957</td>\n",
       "      <td>0.45811</td>\n",
       "      <td>2.45176</td>\n",
       "      <td>Canada</td>\n",
       "    </tr>\n",
       "  </tbody>\n",
       "</table>\n",
       "</div>"
      ],
      "text/plain": [
       "       Country          Region  Happiness Rank  Happiness Score  \\\n",
       "0  Switzerland  Western Europe               1            7.587   \n",
       "1      Iceland  Western Europe               2            7.561   \n",
       "2      Denmark  Western Europe               3            7.527   \n",
       "3       Norway  Western Europe               4            7.522   \n",
       "4       Canada   North America               5            7.427   \n",
       "\n",
       "   Standard Error  Economy (GDP per Capita)   Family  \\\n",
       "0         0.03411                   1.39651  1.34951   \n",
       "1         0.04884                   1.30232  1.40223   \n",
       "2         0.03328                   1.32548  1.36058   \n",
       "3         0.03880                   1.45900  1.33095   \n",
       "4         0.03553                   1.32629  1.32261   \n",
       "\n",
       "   Health (Life Expectancy)  Freedom  Trust (Government Corruption)  \\\n",
       "0                   0.94143  0.66557                        0.41978   \n",
       "1                   0.94784  0.62877                        0.14145   \n",
       "2                   0.87464  0.64938                        0.48357   \n",
       "3                   0.88521  0.66973                        0.36503   \n",
       "4                   0.90563  0.63297                        0.32957   \n",
       "\n",
       "   Generosity  Dystopia Residual first_five_letters  \n",
       "0     0.29678            2.51738             Switze  \n",
       "1     0.43630            2.70201             Icelan  \n",
       "2     0.34139            2.49204             Denmar  \n",
       "3     0.34699            2.46531             Norway  \n",
       "4     0.45811            2.45176             Canada  "
      ]
     },
     "execution_count": 156,
     "metadata": {},
     "output_type": "execute_result"
    }
   ],
   "source": [
    "# Extract the first 6 letters of each country and store in a new column\n",
    "df['first_five_letters'] = df['Country'].str[:6]\n",
    "\n",
    "# Display the DataFrame with the new column\n",
    "df.head()"
   ]
  },
  {
   "cell_type": "markdown",
   "id": "2027cd28",
   "metadata": {},
   "source": [
    "# question 11"
   ]
  },
  {
   "cell_type": "markdown",
   "id": "8e7c7506",
   "metadata": {},
   "source": [
    "11. Write a Python program to match a string that contains only upper and lowercase letters, numbers, and underscores."
   ]
  },
  {
   "cell_type": "code",
   "execution_count": 157,
   "id": "b4123c89",
   "metadata": {},
   "outputs": [],
   "source": [
    "def match_string(input_string):\n",
    "    # Define a regular expression pattern\n",
    "    pattern = re.compile(r'^[a-zA-Z0-9_]+$')\n",
    "\n",
    "    # Use re.match to check if the string matches the pattern\n",
    "    if pattern.match(input_string):\n",
    "        return True\n",
    "    else:\n",
    "        return False\n"
   ]
  },
  {
   "cell_type": "code",
   "execution_count": 158,
   "id": "dbe9c5de",
   "metadata": {},
   "outputs": [
    {
     "data": {
      "text/plain": [
       "True"
      ]
     },
     "execution_count": 158,
     "metadata": {},
     "output_type": "execute_result"
    }
   ],
   "source": [
    "match_string(\"Hello123\")"
   ]
  },
  {
   "cell_type": "code",
   "execution_count": 159,
   "id": "b778621c",
   "metadata": {},
   "outputs": [
    {
     "data": {
      "text/plain": [
       "False"
      ]
     },
     "execution_count": 159,
     "metadata": {},
     "output_type": "execute_result"
    }
   ],
   "source": [
    "match_string(\"Good@123\")"
   ]
  },
  {
   "cell_type": "markdown",
   "id": "d8c1f0bf",
   "metadata": {},
   "source": [
    "# question 12"
   ]
  },
  {
   "cell_type": "markdown",
   "id": "29446ce3",
   "metadata": {},
   "source": [
    "12. Write a Python program where a string will start with a specific number."
   ]
  },
  {
   "cell_type": "code",
   "execution_count": 160,
   "id": "140f4869",
   "metadata": {},
   "outputs": [],
   "source": [
    "def starts_with_number(input_string, specific_number):\n",
    "    # Define a regular expression pattern\n",
    "    pattern = re.compile(f'^{specific_number}')\n",
    "\n",
    "    # Use re.match to check if the string starts with the specific number\n",
    "    if pattern.match(input_string):\n",
    "        return True\n",
    "    else:\n",
    "        return False"
   ]
  },
  {
   "cell_type": "code",
   "execution_count": 161,
   "id": "d4f65a79",
   "metadata": {},
   "outputs": [
    {
     "data": {
      "text/plain": [
       "True"
      ]
     },
     "execution_count": 161,
     "metadata": {},
     "output_type": "execute_result"
    }
   ],
   "source": [
    "starts_with_number('123raja',123)"
   ]
  },
  {
   "cell_type": "code",
   "execution_count": 162,
   "id": "2ea43ae0",
   "metadata": {},
   "outputs": [
    {
     "data": {
      "text/plain": [
       "False"
      ]
     },
     "execution_count": 162,
     "metadata": {},
     "output_type": "execute_result"
    }
   ],
   "source": [
    "starts_with_number('123raja',234)"
   ]
  },
  {
   "cell_type": "markdown",
   "id": "92798b09",
   "metadata": {},
   "source": [
    "# question 13"
   ]
  },
  {
   "cell_type": "markdown",
   "id": "d5320893",
   "metadata": {},
   "source": [
    "13. Write a Python program to remove leading zeros from an IP address"
   ]
  },
  {
   "cell_type": "code",
   "execution_count": 163,
   "id": "6aedb8d2",
   "metadata": {},
   "outputs": [],
   "source": [
    "def remove_leading_zeros(ip_address):\n",
    "    # Define a regular expression pattern to match and remove leading zeros\n",
    "    pattern = re.compile(r'\\b0+(\\d+)\\b')\n",
    "\n",
    "    # Use re.sub to replace leading zeros with the captured digits\n",
    "    result = pattern.sub(r'\\1', ip_address)\n",
    "\n",
    "    return result"
   ]
  },
  {
   "cell_type": "code",
   "execution_count": 164,
   "id": "1e3885f0",
   "metadata": {},
   "outputs": [
    {
     "name": "stdout",
     "output_type": "stream",
     "text": [
      "Original IP Address: 192.001.012.003\n",
      "IP Address without Leading Zeros: 192.1.12.3\n"
     ]
    }
   ],
   "source": [
    "ip_address_with_zeroes = \"192.001.012.003\"\n",
    "output_without_zeroes = remove_leading_zeros(ip_address_with_zeroes)\n",
    "\n",
    "print(\"Original IP Address:\", ip_address_with_zeroes)\n",
    "print(\"IP Address without Leading Zeros:\", output_without_zeroes)"
   ]
  },
  {
   "cell_type": "markdown",
   "id": "f3c964ed",
   "metadata": {},
   "source": [
    "# question 14"
   ]
  },
  {
   "cell_type": "markdown",
   "id": "aeb2d54d",
   "metadata": {},
   "source": [
    "14. Write a regular expression in python to match a date string in the form of Month name followed by day number and year stored in a text file.\n",
    "Sample text :  ' On August 15th 1947 that India was declared independent from British colonialism, and the reins of control were handed over to the leaders of the Country’.\n",
    "Expected Output- August 15th 1947\n",
    "Note- Store given sample text in the text file and then extract the date string asked format."
   ]
  },
  {
   "cell_type": "code",
   "execution_count": 165,
   "id": "b2f10b1c",
   "metadata": {},
   "outputs": [],
   "source": [
    "def extract_date_from_text(file_path):\n",
    "    try:\n",
    "        # Read the content of the file\n",
    "        with open(file_path, 'r') as file:\n",
    "            file_content = file.read()\n",
    "\n",
    "            # Define a regular expression pattern to match the date format\n",
    "            pattern = re.compile(r'\\b(?:January|February|March|April|May|June|July|August|September|October|November|December)\\s+\\d{1,2}(?:st|nd|rd|th)?\\s+\\d{4}\\b')\n",
    "\n",
    "            # Use re.search to find the first match\n",
    "            match = pattern.search(file_content)\n",
    "\n",
    "            if match:\n",
    "                return match.group()\n",
    "            else:\n",
    "                return None\n",
    "\n",
    "    except FileNotFoundError:\n",
    "        print(f\"File not found: {file_path}\")\n",
    "    except Exception as e:\n",
    "        print(f\"An error occurred: {e}\")"
   ]
  },
  {
   "cell_type": "code",
   "execution_count": 166,
   "id": "b2b53185",
   "metadata": {},
   "outputs": [
    {
     "name": "stdout",
     "output_type": "stream",
     "text": [
      "An error occurred: expected str, bytes or os.PathLike object, not TextIOWrapper\n",
      "Extracted Date: None\n"
     ]
    }
   ],
   "source": [
    "file_path = open(\"sample_text2.txt\", \"r+\")\n",
    "\n",
    "file_path.write('On August 15th 1947 that India was declared independent from British colonialism, and the reins of control were handed over to the leaders of the Country.')\n",
    "result = extract_date_from_text(file_path)\n",
    "\n",
    "print(\"Extracted Date:\", result)"
   ]
  },
  {
   "cell_type": "code",
   "execution_count": 167,
   "id": "d1f99369",
   "metadata": {},
   "outputs": [
    {
     "data": {
      "text/plain": [
       "154"
      ]
     },
     "execution_count": 167,
     "metadata": {},
     "output_type": "execute_result"
    }
   ],
   "source": [
    "file_path = open(\"sample_text3.txt\", \"r+\")\n",
    "\n",
    "file_path.write('On August 15th 1947 that India was declared independent from British colonialism, and the reins of control were handed over to the leaders of the Country.')"
   ]
  },
  {
   "cell_type": "code",
   "execution_count": null,
   "id": "27b2c888",
   "metadata": {},
   "outputs": [],
   "source": []
  },
  {
   "cell_type": "markdown",
   "id": "9972ffde",
   "metadata": {},
   "source": [
    "# question 15"
   ]
  },
  {
   "cell_type": "markdown",
   "id": "51be57b4",
   "metadata": {},
   "source": [
    "15. Write a Python program to search some literals strings in a string. \n",
    "Sample text : 'The quick brown fox jumps over the lazy dog.'\n",
    "Searched words : 'fox', 'dog', 'horse'\n"
   ]
  },
  {
   "cell_type": "code",
   "execution_count": 168,
   "id": "51756282",
   "metadata": {},
   "outputs": [],
   "source": [
    "def search_strings_regex(text, searched_words):\n",
    "    results = {}\n",
    "\n",
    "    for word in searched_words:\n",
    "        pattern = re.compile(r'\\b' + re.escape(word) + r'\\b')\n",
    "        results[word] = bool(re.search(pattern, text))\n",
    "\n",
    "    return results"
   ]
  },
  {
   "cell_type": "code",
   "execution_count": 169,
   "id": "2aa8da93",
   "metadata": {},
   "outputs": [
    {
     "name": "stdout",
     "output_type": "stream",
     "text": [
      "The word \"fox\" is present in the text.\n",
      "The word \"dog\" is present in the text.\n",
      "The word \"horse\" is not present in the text.\n"
     ]
    }
   ],
   "source": [
    "sample_text = 'The quick brown fox jumps over the lazy dog.'\n",
    "searched_words = ['fox', 'dog', 'horse']\n",
    "\n",
    "results = search_strings_regex(sample_text, searched_words)\n",
    "\n",
    "for word, found in results.items():\n",
    "    if found:\n",
    "        print(f'The word \"{word}\" is present in the text.')\n",
    "    else:\n",
    "        print(f'The word \"{word}\" is not present in the text.')"
   ]
  },
  {
   "cell_type": "markdown",
   "id": "42ca17bb",
   "metadata": {},
   "source": [
    "# question 16"
   ]
  },
  {
   "cell_type": "markdown",
   "id": "28fafac9",
   "metadata": {},
   "source": [
    "16. Write a Python program to search a literals string in a string and also find the location within the original string where the pattern occurs\n",
    "Sample text : 'The quick brown fox jumps over the lazy dog.'\n",
    "Searched words : 'fox'\n"
   ]
  },
  {
   "cell_type": "code",
   "execution_count": 170,
   "id": "0d196814",
   "metadata": {},
   "outputs": [],
   "source": [
    "def search_string_location(text, searched_word):\n",
    "    pattern = re.compile(re.escape(searched_word))\n",
    "    match = re.search(pattern, text)\n",
    "\n",
    "    if match:\n",
    "        start_index = match.start()\n",
    "        end_index = match.end()\n",
    "\n",
    "        print(f'The word \"{searched_word}\" is present in the text.')\n",
    "        print(f'The pattern starts at index {start_index} and ends at index {end_index}.')\n",
    "    else:\n",
    "        print(f'The word \"{searched_word}\" is not present in the text.')\n"
   ]
  },
  {
   "cell_type": "code",
   "execution_count": 171,
   "id": "20d45b9d",
   "metadata": {},
   "outputs": [
    {
     "name": "stdout",
     "output_type": "stream",
     "text": [
      "The word \"fox\" is present in the text.\n",
      "The pattern starts at index 16 and ends at index 19.\n"
     ]
    }
   ],
   "source": [
    "sample_text = 'The quick brown fox jumps over the lazy dog.'\n",
    "searched_word = 'fox'\n",
    "\n",
    "search_string_location(sample_text, searched_word)"
   ]
  },
  {
   "cell_type": "code",
   "execution_count": 172,
   "id": "47455869",
   "metadata": {},
   "outputs": [
    {
     "name": "stdout",
     "output_type": "stream",
     "text": [
      "The word \"boar\" is not present in the text.\n"
     ]
    }
   ],
   "source": [
    "sample_text = 'The quick brown fox jumps over the lazy dog.'\n",
    "searched_word = 'boar'\n",
    "\n",
    "search_string_location(sample_text, searched_word)"
   ]
  },
  {
   "cell_type": "markdown",
   "id": "0c6c8f1f",
   "metadata": {},
   "source": [
    "# question 17"
   ]
  },
  {
   "cell_type": "markdown",
   "id": "06addd80",
   "metadata": {},
   "source": [
    "17. Write a Python program to find the substrings within a string.\n",
    "Sample text : 'Python exercises, PHP exercises, C# exercises'\n",
    "Pattern : 'exercises'.\n"
   ]
  },
  {
   "cell_type": "code",
   "execution_count": 173,
   "id": "75d3a46e",
   "metadata": {},
   "outputs": [],
   "source": [
    "def find_substrings(text, pattern):\n",
    "    matches = re.finditer(pattern, text)\n",
    "\n",
    "    for match in matches:\n",
    "        start_index = match.start()\n",
    "        end_index = match.end()\n",
    "\n",
    "        print(f'Found substring \"{text[start_index:end_index]}\" at position {start_index}-{end_index}.')"
   ]
  },
  {
   "cell_type": "code",
   "execution_count": 174,
   "id": "0ada134d",
   "metadata": {},
   "outputs": [
    {
     "name": "stdout",
     "output_type": "stream",
     "text": [
      "Found substring \"exercises\" at position 7-16.\n",
      "Found substring \"exercises\" at position 22-31.\n",
      "Found substring \"exercises\" at position 36-45.\n"
     ]
    }
   ],
   "source": [
    "sample_text = 'Python exercises, PHP exercises, C# exercises'\n",
    "pattern = 'exercises'\n",
    "\n",
    "find_substrings(sample_text, pattern)"
   ]
  },
  {
   "cell_type": "markdown",
   "id": "e2704745",
   "metadata": {},
   "source": [
    "# question 18"
   ]
  },
  {
   "cell_type": "markdown",
   "id": "0eed417d",
   "metadata": {},
   "source": [
    "18. Write a Python program to find the occurrence and position of the substrings within a string.\n"
   ]
  },
  {
   "cell_type": "code",
   "execution_count": 175,
   "id": "40309ea0",
   "metadata": {},
   "outputs": [],
   "source": [
    "def find_occurrences_and_positions(text, pattern):\n",
    "    matches = re.finditer(pattern, text)\n",
    "    \n",
    "    occurrences = []\n",
    "    for match in matches:\n",
    "        start_index = match.start()\n",
    "        end_index = match.end()\n",
    "        occurrences.append((text[start_index:end_index], start_index, end_index))\n",
    "\n",
    "    return occurrences"
   ]
  },
  {
   "cell_type": "code",
   "execution_count": 176,
   "id": "8eaa1a25",
   "metadata": {},
   "outputs": [
    {
     "name": "stdout",
     "output_type": "stream",
     "text": [
      "Occurrences of \"exercises\" in the text:\n",
      "Found \"exercises\" at position 7-16.\n",
      "Found \"exercises\" at position 22-31.\n",
      "Found \"exercises\" at position 36-45.\n"
     ]
    }
   ],
   "source": [
    "sample_text = 'Python exercises, PHP exercises, C# exercises'\n",
    "pattern = 'exercises'\n",
    "\n",
    "result = find_occurrences_and_positions(sample_text, pattern)\n",
    "\n",
    "if result:\n",
    "    print(f'Occurrences of \"{pattern}\" in the text:')\n",
    "    for substring, start, end in result:\n",
    "        print(f'Found \"{substring}\" at position {start}-{end}.')\n",
    "else:\n",
    "    print(f'No occurrences of \"{pattern}\" found in the text.')"
   ]
  },
  {
   "cell_type": "markdown",
   "id": "b397d45b",
   "metadata": {},
   "source": [
    "# question 19"
   ]
  },
  {
   "cell_type": "markdown",
   "id": "3a69ab89",
   "metadata": {},
   "source": [
    "19.  Write a Python program to convert a date of yyyy-mm-dd format to dd-mm-yyyy format.\n"
   ]
  },
  {
   "cell_type": "code",
   "execution_count": 177,
   "id": "8cc4cea6",
   "metadata": {},
   "outputs": [],
   "source": [
    "def convert_date_format(input_date):\n",
    "\n",
    "    pattern = re.compile(r'(\\d{4})-(\\d{2})-(\\d{2})')\n",
    "\n",
    "    converted_date = re.sub(pattern, r'\\3-\\2-\\1', input_date)\n",
    "\n",
    "    return converted_date"
   ]
  },
  {
   "cell_type": "code",
   "execution_count": 178,
   "id": "b0ac28d8",
   "metadata": {},
   "outputs": [
    {
     "name": "stdout",
     "output_type": "stream",
     "text": [
      "Original date: 2023-12-15\n",
      "Converted date: 15-12-2023\n"
     ]
    }
   ],
   "source": [
    "input_date = '2023-12-15'\n",
    "converted_date = convert_date_format(input_date)\n",
    "\n",
    "print(f'Original date: {input_date}')\n",
    "print(f'Converted date: {converted_date}')"
   ]
  },
  {
   "cell_type": "markdown",
   "id": "a61c5cd4",
   "metadata": {},
   "source": [
    "# question 20"
   ]
  },
  {
   "cell_type": "markdown",
   "id": "e14b1cc5",
   "metadata": {},
   "source": [
    "20. Create a function in python to find all decimal numbers with a precision of 1 or 2 in a string. The use of the re.compile() method is mandatory.\n",
    "Sample Text: \"01.12 0132.123 2.31875 145.8 3.01 27.25 0.25\"\n",
    "Expected Output: ['01.12', '145.8', '3.01', '27.25', '0.25']\n"
   ]
  },
  {
   "cell_type": "code",
   "execution_count": 179,
   "id": "a838e3a6",
   "metadata": {},
   "outputs": [],
   "source": [
    "def find_decimal_numbers(text):\n",
    "\n",
    "    pattern = re.compile(r'\\b\\d+(\\.\\d{1,2})?\\b')\n",
    "\n",
    "    decimal_numbers = pattern.findall(text)\n",
    "\n",
    "    return decimal_numbers"
   ]
  },
  {
   "cell_type": "code",
   "execution_count": 180,
   "id": "7d5ac041",
   "metadata": {},
   "outputs": [
    {
     "name": "stdout",
     "output_type": "stream",
     "text": [
      "Sample Text: 01.12 0132.123 2.31875 145.8 3.01 27.25 0.25\n",
      "Decimal Numbers with Precision of 1 or 2: ['.12', '', '', '', '', '.8', '.01', '.25', '.25']\n"
     ]
    }
   ],
   "source": [
    "sample_text = \"01.12 0132.123 2.31875 145.8 3.01 27.25 0.25\"\n",
    "result = find_decimal_numbers(sample_text)\n",
    "\n",
    "print(\"Sample Text:\", sample_text)\n",
    "print(\"Decimal Numbers with Precision of 1 or 2:\", result)"
   ]
  },
  {
   "cell_type": "markdown",
   "id": "11b1e272",
   "metadata": {},
   "source": [
    "# question 21"
   ]
  },
  {
   "cell_type": "markdown",
   "id": "c5f3f86e",
   "metadata": {},
   "source": [
    "21. Write a Python program to separate and print the numbers and their position of a given string.\n"
   ]
  },
  {
   "cell_type": "code",
   "execution_count": 181,
   "id": "b4d306f9",
   "metadata": {},
   "outputs": [],
   "source": [
    "def find_numbers_and_positions(text):\n",
    "\n",
    "    pattern = re.compile(r'\\b\\d+\\b')\n",
    "\n",
    "    matches = [(match.group(), match.start(), match.end()) for match in pattern.finditer(text)]\n",
    "\n",
    "    return matches"
   ]
  },
  {
   "cell_type": "code",
   "execution_count": 182,
   "id": "422521cc",
   "metadata": {},
   "outputs": [
    {
     "name": "stdout",
     "output_type": "stream",
     "text": [
      "Sample Text: The price of the product is Rs. 55.78 and the quantity is 3.\n",
      "Numbers and Their Positions:\n",
      "Number: 55, Position: 32-34\n",
      "Number: 78, Position: 35-37\n",
      "Number: 3, Position: 58-59\n"
     ]
    }
   ],
   "source": [
    "sample_text = \"The price of the product is Rs. 55.78 and the quantity is 3.\"\n",
    "result = find_numbers_and_positions(sample_text)\n",
    "\n",
    "print(\"Sample Text:\", sample_text)\n",
    "print(\"Numbers and Their Positions:\")\n",
    "for number, start, end in result:\n",
    "    print(f'Number: {number}, Position: {start}-{end}')"
   ]
  },
  {
   "cell_type": "markdown",
   "id": "67309cab",
   "metadata": {},
   "source": [
    "# question 22"
   ]
  },
  {
   "cell_type": "markdown",
   "id": "afb50494",
   "metadata": {},
   "source": [
    "22. Write a regular expression in python program to extract maximum/largest numeric value from a string.\n",
    "Sample Text:  'My marks in each semester are: 947, 896, 926, 524, 734, 950, 642'\n",
    "Expected Output: 950\n"
   ]
  },
  {
   "cell_type": "code",
   "execution_count": 183,
   "id": "7d336503",
   "metadata": {},
   "outputs": [],
   "source": [
    "def extract_maximum_numeric_value(text):\n",
    "\n",
    "    pattern = re.compile(r'\\b\\d+\\b')\n",
    "\n",
    "    numeric_values = [int(match) for match in pattern.findall(text)]\n",
    "\n",
    "    if numeric_values:\n",
    "        max_value = max(numeric_values)\n",
    "        return max_value\n",
    "    else:\n",
    "        return None"
   ]
  },
  {
   "cell_type": "code",
   "execution_count": 184,
   "id": "3e2d40e2",
   "metadata": {},
   "outputs": [
    {
     "name": "stdout",
     "output_type": "stream",
     "text": [
      "Sample Text: My marks in each semester are: 947, 896, 926, 524, 734, 950, 642\n",
      "Maximum Numeric Value: 950\n"
     ]
    }
   ],
   "source": [
    "sample_text = 'My marks in each semester are: 947, 896, 926, 524, 734, 950, 642'\n",
    "max_numeric_value = extract_maximum_numeric_value(sample_text)\n",
    "\n",
    "if max_numeric_value is not None:\n",
    "    print(f\"Sample Text: {sample_text}\")\n",
    "    print(f\"Maximum Numeric Value: {max_numeric_value}\")\n",
    "else:\n",
    "    print(\"No numeric values found in the text.\")"
   ]
  },
  {
   "cell_type": "markdown",
   "id": "7dcc51a6",
   "metadata": {},
   "source": [
    "# question 23"
   ]
  },
  {
   "cell_type": "markdown",
   "id": "04aecf3a",
   "metadata": {},
   "source": [
    "23. Create a function in python to insert spaces between words starting with capital letters.\n",
    "Sample Text: “RegularExpressionIsAnImportantTopicInPython\"\n",
    "Expected Output: Regular Expression Is An Important Topic In Python\n"
   ]
  },
  {
   "cell_type": "code",
   "execution_count": 185,
   "id": "848526fa",
   "metadata": {},
   "outputs": [],
   "source": [
    "def insert_spaces(text):\n",
    "\n",
    "    spaced_text = re.sub(r'([a-z])([A-Z])', r'\\1 \\2', text)\n",
    "\n",
    "    spaced_text = spaced_text.capitalize()\n",
    "\n",
    "    return spaced_text"
   ]
  },
  {
   "cell_type": "code",
   "execution_count": 186,
   "id": "206aabf8",
   "metadata": {},
   "outputs": [
    {
     "name": "stdout",
     "output_type": "stream",
     "text": [
      "Sample Text: RegularExpressionIsAnImportantTopicInPython\n",
      "Output with Spaces: Regular expression is an important topic in python\n"
     ]
    }
   ],
   "source": [
    "sample_text = \"RegularExpressionIsAnImportantTopicInPython\"\n",
    "result = insert_spaces(sample_text)\n",
    "\n",
    "print(\"Sample Text:\", sample_text)\n",
    "print(\"Output with Spaces:\", result)"
   ]
  },
  {
   "cell_type": "markdown",
   "id": "05c45296",
   "metadata": {},
   "source": [
    "# question 24"
   ]
  },
  {
   "cell_type": "markdown",
   "id": "5205e7b4",
   "metadata": {},
   "source": [
    "24. Python regex to find sequences of one upper case letter followed by lower case letters\n"
   ]
  },
  {
   "cell_type": "code",
   "execution_count": 187,
   "id": "899d600a",
   "metadata": {},
   "outputs": [],
   "source": [
    "def find_sequences(text):\n",
    "    pattern = re.compile(r'\\b[A-Z][a-z]+\\b')\n",
    "    sequences = pattern.findall(text)\n",
    "    return sequences"
   ]
  },
  {
   "cell_type": "code",
   "execution_count": 188,
   "id": "25bb2779",
   "metadata": {},
   "outputs": [
    {
     "name": "stdout",
     "output_type": "stream",
     "text": [
      "Sample Text: The Quick Brown Fox Jumps Over The Lazy Dog\n",
      "Sequences: ['The', 'Quick', 'Brown', 'Fox', 'Jumps', 'Over', 'The', 'Lazy', 'Dog']\n"
     ]
    }
   ],
   "source": [
    "sample_text = \"The Quick Brown Fox Jumps Over The Lazy Dog\"\n",
    "result = find_sequences(sample_text)\n",
    "\n",
    "print(\"Sample Text:\", sample_text)\n",
    "print(\"Sequences:\", result)"
   ]
  },
  {
   "cell_type": "markdown",
   "id": "d29babd2",
   "metadata": {},
   "source": [
    "# question 25"
   ]
  },
  {
   "cell_type": "markdown",
   "id": "329d984d",
   "metadata": {},
   "source": [
    "25.  Write a Python program to remove continuous duplicate words from Sentence using Regular Expression.\n",
    "Sample Text: \"Hello hello world world\"\n",
    "Expected Output: Hello hello world\n"
   ]
  },
  {
   "cell_type": "code",
   "execution_count": 189,
   "id": "29145fa2",
   "metadata": {},
   "outputs": [],
   "source": [
    "def remove_continuous_duplicates(sentence):\n",
    "\n",
    "    cleaned_sentence = re.sub(r'\\b(\\w+)(\\s+\\1)+\\b', r'\\1', sentence)\n",
    "\n",
    "    return cleaned_sentence"
   ]
  },
  {
   "cell_type": "code",
   "execution_count": 190,
   "id": "1a5fd625",
   "metadata": {},
   "outputs": [
    {
     "name": "stdout",
     "output_type": "stream",
     "text": [
      "Original Sentence: Hello hello world world\n",
      "Output after removing continuous duplicates: Hello hello world\n"
     ]
    }
   ],
   "source": [
    "sample_text = \"Hello hello world world\"\n",
    "result = remove_continuous_duplicates(sample_text)\n",
    "\n",
    "print(\"Original Sentence:\", sample_text)\n",
    "print(\"Output after removing continuous duplicates:\", result)"
   ]
  },
  {
   "cell_type": "markdown",
   "id": "27c15123",
   "metadata": {},
   "source": [
    "# question 26"
   ]
  },
  {
   "cell_type": "markdown",
   "id": "2deae473",
   "metadata": {},
   "source": [
    "26. Write a python program using RegEx to accept string ending with alphanumeric character.\n"
   ]
  },
  {
   "cell_type": "code",
   "execution_count": 191,
   "id": "420cc9ce",
   "metadata": {},
   "outputs": [],
   "source": [
    "def ends_with_alphanumeric(input_string):\n",
    "\n",
    "    pattern = re.compile(r'\\w$')\n",
    "\n",
    "    match = re.search(pattern, input_string)\n",
    "\n",
    "    return bool(match)"
   ]
  },
  {
   "cell_type": "code",
   "execution_count": 192,
   "id": "c6303253",
   "metadata": {},
   "outputs": [
    {
     "name": "stdout",
     "output_type": "stream",
     "text": [
      "Hello123 ends with alphanumeric: True\n",
      "World! ends with alphanumeric: False\n",
      "12345 ends with alphanumeric: True\n"
     ]
    }
   ],
   "source": [
    "test_string1 = \"Hello123\"\n",
    "test_string2 = \"World!\"\n",
    "test_string3 = \"12345\"\n",
    "\n",
    "print(f'{test_string1} ends with alphanumeric: {ends_with_alphanumeric(test_string1)}')\n",
    "print(f'{test_string2} ends with alphanumeric: {ends_with_alphanumeric(test_string2)}')\n",
    "print(f'{test_string3} ends with alphanumeric: {ends_with_alphanumeric(test_string3)}')"
   ]
  },
  {
   "cell_type": "markdown",
   "id": "c97a7f28",
   "metadata": {},
   "source": [
    "# question 27"
   ]
  },
  {
   "cell_type": "markdown",
   "id": "183f8296",
   "metadata": {},
   "source": [
    "27. Write a python program using RegEx to extract the hashtags.\n",
    "Sample Text:  \"\"\"RT @kapil_kausik: #Doltiwal I mean #xyzabc is \"hurt\" by #Demonetization as the same has rendered USELESS <ed><U+00A0><U+00BD><ed><U+00B1><U+0089> \"acquired funds\" No wo\"\"\"\n",
    "Expected Output: ['#Doltiwal', '#xyzabc', '#Demonetization']\n"
   ]
  },
  {
   "cell_type": "code",
   "execution_count": 193,
   "id": "108e4f6c",
   "metadata": {},
   "outputs": [],
   "source": [
    "def extract_hashtags(text):\n",
    "\n",
    "    pattern = re.compile(r'#\\w+')\n",
    "\n",
    "    hashtags = pattern.findall(text)\n",
    "\n",
    "    return hashtags"
   ]
  },
  {
   "cell_type": "code",
   "execution_count": 194,
   "id": "6b538e97",
   "metadata": {},
   "outputs": [
    {
     "name": "stdout",
     "output_type": "stream",
     "text": [
      "Sample Text: RT @kapil_kausik: #Doltiwal I mean #xyzabc is \"hurt\" by #Demonetization as the same has rendered USELESS <ed><U+00A0><U+00BD><ed><U+00B1><U+0089> \"acquired funds\" No wo\n",
      "Extracted Hashtags: ['#Doltiwal', '#xyzabc', '#Demonetization']\n"
     ]
    }
   ],
   "source": [
    "sample_text = \"\"\"RT @kapil_kausik: #Doltiwal I mean #xyzabc is \"hurt\" by #Demonetization as the same has rendered USELESS <ed><U+00A0><U+00BD><ed><U+00B1><U+0089> \"acquired funds\" No wo\"\"\"\n",
    "\n",
    "result = extract_hashtags(sample_text)\n",
    "\n",
    "print(\"Sample Text:\", sample_text)\n",
    "print(\"Extracted Hashtags:\", result)"
   ]
  },
  {
   "cell_type": "markdown",
   "id": "be444634",
   "metadata": {},
   "source": [
    "# question 28"
   ]
  },
  {
   "cell_type": "markdown",
   "id": "2717f0f2",
   "metadata": {},
   "source": [
    "28. Write a python program using RegEx to remove <U+..> like symbols\n",
    "Check the below sample text, there are strange symbols something of the sort <U+..> all over the place. You need to come up with a general Regex expression that will cover all such symbols.\n",
    "Sample Text: \"@Jags123456 Bharat band on 28??<ed><U+00A0><U+00BD><ed><U+00B8><U+0082>Those who  are protesting #demonetization  are all different party leaders\"\n",
    "Expected Output: @Jags123456 Bharat band on 28??<ed><ed>Those who  are protesting #demonetization  are all different party leaders\n"
   ]
  },
  {
   "cell_type": "code",
   "execution_count": 195,
   "id": "d1d566b3",
   "metadata": {},
   "outputs": [],
   "source": [
    "def remove_symbols(text):\n",
    "\n",
    "    pattern = re.compile(r'<U\\+\\w+>')\n",
    "\n",
    "    cleaned_text = re.sub(pattern, '', text)\n",
    "\n",
    "    return cleaned_text"
   ]
  },
  {
   "cell_type": "code",
   "execution_count": 196,
   "id": "6d751bcf",
   "metadata": {},
   "outputs": [
    {
     "name": "stdout",
     "output_type": "stream",
     "text": [
      "Sample Text: @Jags123456 Bharat band on 28??<ed><U+00A0><U+00BD><ed><U+00B8><U+0082>Those who  are protesting #demonetization  are all different party leaders\n",
      "Output after removing symbols: @Jags123456 Bharat band on 28??<ed><ed>Those who  are protesting #demonetization  are all different party leaders\n"
     ]
    }
   ],
   "source": [
    "sample_text = \"@Jags123456 Bharat band on 28??<ed><U+00A0><U+00BD><ed><U+00B8><U+0082>Those who  are protesting #demonetization  are all different party leaders\"\n",
    "\n",
    "result = remove_symbols(sample_text)\n",
    "\n",
    "print(\"Sample Text:\", sample_text)\n",
    "print(\"Output after removing symbols:\", result)"
   ]
  },
  {
   "cell_type": "markdown",
   "id": "e0dc9687",
   "metadata": {},
   "source": [
    "# question 29"
   ]
  },
  {
   "cell_type": "markdown",
   "id": "2f66ce1a",
   "metadata": {},
   "source": [
    "29. Write a python program to extract dates from the text stored in the text file.\n",
    "Sample Text: Ron was born on 12-09-1992 and he was admitted to school 15-12-1999.\n",
    "Note- Store this sample text in the file and then extract dates.\n"
   ]
  },
  {
   "cell_type": "code",
   "execution_count": 197,
   "id": "904a8069",
   "metadata": {},
   "outputs": [],
   "source": [
    "def extract_dates_from_file(file_path):\n",
    "\n",
    "    with open(file_path, 'r') as file:\n",
    "        text = file.read()\n",
    "\n",
    "    date_pattern = re.compile(r'\\b(\\d{2}-\\d{2}-\\d{4})\\b')\n",
    "\n",
    "    dates = date_pattern.findall(text)\n",
    "\n",
    "    return dates"
   ]
  },
  {
   "cell_type": "code",
   "execution_count": 198,
   "id": "d8ad4c19",
   "metadata": {},
   "outputs": [
    {
     "name": "stdout",
     "output_type": "stream",
     "text": [
      "Sample Text: Raja was born on 11-12-1992 and he has completed the school on 15-06-2008.\n",
      "Extracted Dates: ['11-12-1992', '15-06-2008']\n"
     ]
    }
   ],
   "source": [
    "file_path = 'sample_text.txt'\n",
    "sample_text = \"Raja was born on 11-12-1992 and he has completed the school on 15-06-2008.\"\n",
    "\n",
    "with open(file_path, 'w') as file:\n",
    "    file.write(sample_text)\n",
    "\n",
    "result_dates = extract_dates_from_file(file_path)\n",
    "\n",
    "print(\"Sample Text:\", sample_text)\n",
    "print(\"Extracted Dates:\", result_dates)"
   ]
  },
  {
   "cell_type": "markdown",
   "id": "53b90c1b",
   "metadata": {},
   "source": [
    "# question 30"
   ]
  },
  {
   "cell_type": "markdown",
   "id": "01aedad6",
   "metadata": {},
   "source": [
    "30. Create a function in python to remove all words from a string of length between 2 and 4.\n",
    "The use of the re.compile() method is mandatory.\n",
    "Sample Text: \"The following example creates an ArrayList with a capacity of 50 elements. 4 elements are then added to the ArrayList and the ArrayList is trimmed accordingly.\"\n",
    "Expected Output:  following example creates ArrayList a capacity elements. 4 elements added ArrayList ArrayList trimmed accordingly.\n"
   ]
  },
  {
   "cell_type": "code",
   "execution_count": 199,
   "id": "6362e28d",
   "metadata": {},
   "outputs": [],
   "source": [
    "def remove_words_of_length_between_2_and_4(input_text):\n",
    "\n",
    "    pattern = re.compile(r'\\b\\w{2,4}\\b')\n",
    "\n",
    "    cleaned_text = re.sub(pattern, '', input_text)\n",
    "\n",
    "    return cleaned_text"
   ]
  },
  {
   "cell_type": "code",
   "execution_count": 200,
   "id": "74ef613a",
   "metadata": {},
   "outputs": [
    {
     "name": "stdout",
     "output_type": "stream",
     "text": [
      "Sample Text: The following example creates an ArrayList with a capacity of 50 elements. 4 elements are then added to the ArrayList and the ArrayList is trimmed accordingly.\n",
      "Output after removing words of length 2 to 4:  following example creates  ArrayList  a capacity   elements. 4 elements   added   ArrayList   ArrayList  trimmed accordingly.\n"
     ]
    }
   ],
   "source": [
    "sample_text = \"The following example creates an ArrayList with a capacity of 50 elements. 4 elements are then added to the ArrayList and the ArrayList is trimmed accordingly.\"\n",
    "\n",
    "result = remove_words_of_length_between_2_and_4(sample_text)\n",
    "\n",
    "print(\"Sample Text:\", sample_text)\n",
    "print(\"Output after removing words of length 2 to 4:\", result)"
   ]
  },
  {
   "cell_type": "code",
   "execution_count": null,
   "id": "880ffb2b",
   "metadata": {},
   "outputs": [],
   "source": []
  }
 ],
 "metadata": {
  "kernelspec": {
   "display_name": "Python 3 (ipykernel)",
   "language": "python",
   "name": "python3"
  },
  "language_info": {
   "codemirror_mode": {
    "name": "ipython",
    "version": 3
   },
   "file_extension": ".py",
   "mimetype": "text/x-python",
   "name": "python",
   "nbconvert_exporter": "python",
   "pygments_lexer": "ipython3",
   "version": "3.10.9"
  }
 },
 "nbformat": 4,
 "nbformat_minor": 5
}
